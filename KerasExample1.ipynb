{
  "nbformat": 4,
  "nbformat_minor": 0,
  "metadata": {
    "colab": {
      "name": "KerasExample1.ipynb",
      "version": "0.3.2",
      "provenance": [],
      "collapsed_sections": [],
      "toc_visible": true,
      "include_colab_link": true
    },
    "kernelspec": {
      "name": "python3",
      "display_name": "Python 3"
    },
    "accelerator": "GPU"
  },
  "cells": [
    {
      "cell_type": "markdown",
      "metadata": {
        "id": "view-in-github",
        "colab_type": "text"
      },
      "source": [
        "<a href=\"https://colab.research.google.com/github/IMHOSUNG/Keras_Study/blob/master/KerasExample1.ipynb\" target=\"_parent\"><img src=\"https://colab.research.google.com/assets/colab-badge.svg\" alt=\"Open In Colab\"/></a>"
      ]
    },
    {
      "cell_type": "markdown",
      "metadata": {
        "id": "IH5waVjhMBmm",
        "colab_type": "text"
      },
      "source": [
        "# 손글씨 데이터 셋 MNIST를 다층 퍼셉트론 신경망 모델 학습\n",
        "\n",
        "## MNIST 데이터 셋 분석\n",
        "\n",
        "### Keras Setting"
      ]
    },
    {
      "cell_type": "code",
      "metadata": {
        "id": "Bl0aRQW4Of2E",
        "colab_type": "code",
        "colab": {}
      },
      "source": [
        "\n",
        "from keras.utils import np_utils\n",
        "from keras.datasets import mnist\n",
        "from keras.models import Sequential\n",
        "from keras.layers import Dense, Activation\n",
        "import numpy as np\n",
        "import keras\n"
      ],
      "execution_count": 0,
      "outputs": []
    },
    {
      "cell_type": "markdown",
      "metadata": {
        "id": "Y4au1hXgOPxr",
        "colab_type": "text"
      },
      "source": [
        "### 데이터 셋 전처리"
      ]
    },
    {
      "cell_type": "code",
      "metadata": {
        "id": "bAI5LR20JcN0",
        "colab_type": "code",
        "colab": {}
      },
      "source": [
        "\n",
        "\n",
        "np.random.seed(3)\n",
        "\n",
        "(x_train, y_train) , (x_test, y_test) = mnist.load_data()\n",
        "\n",
        "x_val = x_train[50000:]\n",
        "y_val = y_train[50000:]\n",
        "\n",
        "x_train = x_train[:50000]\n",
        "y_train = y_train[:50000]\n",
        "\n",
        "x_train = x_train.reshape(50000, 784).astype('float32') / 255.0\n",
        "x_val = x_val.reshape(10000, 784).astype('float32')  / 255.0\n",
        "x_test = x_test.reshape(10000, 784).astype('float32') / 255.0\n",
        "\n",
        "train_rand_idxs = np.random.choice(50000, 700)\n",
        "val_rand_idxs = np.random.choice(10000, 300)\n",
        "\n",
        "x_train = x_train[train_rand_idxs]\n",
        "y_train = y_train[train_rand_idxs]\n",
        "x_val = x_val[val_rand_idxs]\n",
        "y_val = y_val[val_rand_idxs]\n",
        "\n",
        "y_train = np_utils.to_categorical(y_train)\n",
        "y_val = np_utils.to_categorical(y_val)\n",
        "y_test = np_utils.to_categorical(y_test)\n"
      ],
      "execution_count": 0,
      "outputs": []
    },
    {
      "cell_type": "markdown",
      "metadata": {
        "id": "u0E0COeZSJp4",
        "colab_type": "text"
      },
      "source": [
        "### 모델 구성하기"
      ]
    },
    {
      "cell_type": "code",
      "metadata": {
        "id": "gt9cOvE4SG6D",
        "colab_type": "code",
        "colab": {}
      },
      "source": [
        "model = Sequential()\n",
        "model.add(Dense(units=64, input_dim = 28*28, activation = 'relu'))\n",
        "model.add(Dense(units=10, activation='softmax'))\n",
        "\n",
        "model.compile(loss='categorical_crossentropy', optimizer='sgd' , metrics=['accuracy'])\n",
        "\n"
      ],
      "execution_count": 0,
      "outputs": []
    },
    {
      "cell_type": "markdown",
      "metadata": {
        "id": "rhhc5Ff3S2wb",
        "colab_type": "text"
      },
      "source": [
        "### 학습 과정 살펴보기-1 (케라스의 히스토리 기능)"
      ]
    },
    {
      "cell_type": "code",
      "metadata": {
        "id": "HgpRCZaMS3Hk",
        "colab_type": "code",
        "colab": {}
      },
      "source": [
        "#오버피팅 방지\n",
        "from keras.callbacks import EarlyStopping\n",
        "early_stopping = EarlyStopping(patience = 20)\n",
        "hist = model.fit(x_train, y_train, epochs = 1000, batch_size=32, validation_data=(x_val, y_val), callbacks=[early_stopping])\n"
      ],
      "execution_count": 0,
      "outputs": []
    },
    {
      "cell_type": "code",
      "metadata": {
        "id": "u0d857M0ro6T",
        "colab_type": "code",
        "colab": {
          "base_uri": "https://localhost:8080/",
          "height": 283
        },
        "outputId": "b28be650-388a-429a-fb31-b2875226b3ce"
      },
      "source": [
        "%matplotlib inline\n",
        "import matplotlib.pyplot as plt\n",
        "\n",
        "fig, loss_ax = plt.subplots()\n",
        "\n",
        "acc_ax = loss_ax.twinx()\n",
        "\n",
        "loss_ax.plot(hist.history['loss'], 'y', label='train loss')\n",
        "loss_ax.plot(hist.history['val_loss'], 'r', label='val loss')\n",
        "\n",
        "acc_ax.plot(hist.history['acc'], 'b', label='train acc')\n",
        "acc_ax.plot(hist.history['val_acc'], 'g', label='val acc')\n",
        "\n",
        "loss_ax.set_xlabel('epoch')\n",
        "loss_ax.set_ylabel('loss')\n",
        "acc_ax.set_ylabel('accuracy')\n",
        "\n",
        "loss_ax.legend(loc='upper left')\n",
        "acc_ax.legend(loc='lower left')\n",
        "\n",
        "plt.show()"
      ],
      "execution_count": 39,
      "outputs": [
        {
          "output_type": "display_data",
          "data": {
            "image/png": "[encoded data removed]",
            "text/plain": [
              "<Figure size 432x288 with 2 Axes>"
            ]
          },
          "metadata": {
            "tags": []
          }
        }
      ]
    },
    {
      "cell_type": "markdown",
      "metadata": {
        "id": "3hl9QU43zYGn",
        "colab_type": "text"
      },
      "source": [
        "### 모델 구조 알기"
      ]
    },
    {
      "cell_type": "code",
      "metadata": {
        "id": "qAQ3-VTvvvEc",
        "colab_type": "code",
        "outputId": "534df4b4-e553-44d7-9878-e0f908874821",
        "colab": {
          "base_uri": "https://localhost:8080/",
          "height": 301
        }
      },
      "source": [
        "from IPython.display import SVG\n",
        "from keras.utils.vis_utils import model_to_dot\n",
        "\n",
        "%matplotlib inline\n",
        "\n",
        "SVG(model_to_dot(model, show_shapes=True).create(prog='dot', format='svg'))"
      ],
      "execution_count": 35,
      "outputs": [
        {
          "output_type": "execute_result",
          "data": {
            "text/plain": [
              "<IPython.core.display.SVG object>"
            ],
            "image/svg+xml": "<svg height=\"211pt\" viewBox=\"0.00 0.00 260.00 211.00\" width=\"260pt\" xmlns=\"http://www.w3.org/2000/svg\" xmlns:xlink=\"http://www.w3.org/1999/xlink\">\n<g class=\"graph\" id=\"graph0\" transform=\"scale(1 1) rotate(0) translate(4 207)\">\n<title>G</title>\n<polygon fill=\"#ffffff\" points=\"-4,4 -4,-207 256,-207 256,4 -4,4\" stroke=\"transparent\"/>\n<!-- 140361156781952 -->\n<g class=\"node\" id=\"node1\">\n<title>140361156781952</title>\n<polygon fill=\"none\" points=\"0,-83.5 0,-129.5 252,-129.5 252,-83.5 0,-83.5\" stroke=\"#000000\"/>\n<text fill=\"#000000\" font-family=\"Times,serif\" font-size=\"14.00\" text-anchor=\"middle\" x=\"53.5\" y=\"-102.8\">dense_7: Dense</text>\n<polyline fill=\"none\" points=\"107,-83.5 107,-129.5 \" stroke=\"#000000\"/>\n<text fill=\"#000000\" font-family=\"Times,serif\" font-size=\"14.00\" text-anchor=\"middle\" x=\"136\" y=\"-114.3\">input:</text>\n<polyline fill=\"none\" points=\"107,-106.5 165,-106.5 \" stroke=\"#000000\"/>\n<text fill=\"#000000\" font-family=\"Times,serif\" font-size=\"14.00\" text-anchor=\"middle\" x=\"136\" y=\"-91.3\">output:</text>\n<polyline fill=\"none\" points=\"165,-83.5 165,-129.5 \" stroke=\"#000000\"/>\n<text fill=\"#000000\" font-family=\"Times,serif\" font-size=\"14.00\" text-anchor=\"middle\" x=\"208.5\" y=\"-114.3\">(None, 784)</text>\n<polyline fill=\"none\" points=\"165,-106.5 252,-106.5 \" stroke=\"#000000\"/>\n<text fill=\"#000000\" font-family=\"Times,serif\" font-size=\"14.00\" text-anchor=\"middle\" x=\"208.5\" y=\"-91.3\">(None, 64)</text>\n</g>\n<!-- 140361156781896 -->\n<g class=\"node\" id=\"node2\">\n<title>140361156781896</title>\n<polygon fill=\"none\" points=\"3.5,-.5 3.5,-46.5 248.5,-46.5 248.5,-.5 3.5,-.5\" stroke=\"#000000\"/>\n<text fill=\"#000000\" font-family=\"Times,serif\" font-size=\"14.00\" text-anchor=\"middle\" x=\"57\" y=\"-19.8\">dense_8: Dense</text>\n<polyline fill=\"none\" points=\"110.5,-.5 110.5,-46.5 \" stroke=\"#000000\"/>\n<text fill=\"#000000\" font-family=\"Times,serif\" font-size=\"14.00\" text-anchor=\"middle\" x=\"139.5\" y=\"-31.3\">input:</text>\n<polyline fill=\"none\" points=\"110.5,-23.5 168.5,-23.5 \" stroke=\"#000000\"/>\n<text fill=\"#000000\" font-family=\"Times,serif\" font-size=\"14.00\" text-anchor=\"middle\" x=\"139.5\" y=\"-8.3\">output:</text>\n<polyline fill=\"none\" points=\"168.5,-.5 168.5,-46.5 \" stroke=\"#000000\"/>\n<text fill=\"#000000\" font-family=\"Times,serif\" font-size=\"14.00\" text-anchor=\"middle\" x=\"208.5\" y=\"-31.3\">(None, 64)</text>\n<polyline fill=\"none\" points=\"168.5,-23.5 248.5,-23.5 \" stroke=\"#000000\"/>\n<text fill=\"#000000\" font-family=\"Times,serif\" font-size=\"14.00\" text-anchor=\"middle\" x=\"208.5\" y=\"-8.3\">(None, 10)</text>\n</g>\n<!-- 140361156781952&#45;&gt;140361156781896 -->\n<g class=\"edge\" id=\"edge2\">\n<title>140361156781952-&gt;140361156781896</title>\n<path d=\"M126,-83.3799C126,-75.1745 126,-65.7679 126,-56.8786\" fill=\"none\" stroke=\"#000000\"/>\n<polygon fill=\"#000000\" points=\"129.5001,-56.784 126,-46.784 122.5001,-56.784 129.5001,-56.784\" stroke=\"#000000\"/>\n</g>\n<!-- 140361156781280 -->\n<g class=\"node\" id=\"node3\">\n<title>140361156781280</title>\n<polygon fill=\"none\" points=\"62,-166.5 62,-202.5 190,-202.5 190,-166.5 62,-166.5\" stroke=\"#000000\"/>\n<text fill=\"#000000\" font-family=\"Times,serif\" font-size=\"14.00\" text-anchor=\"middle\" x=\"126\" y=\"-180.8\">140361156781280</text>\n</g>\n<!-- 140361156781280&#45;&gt;140361156781952 -->\n<g class=\"edge\" id=\"edge1\">\n<title>140361156781280-&gt;140361156781952</title>\n<path d=\"M126,-166.4092C126,-158.4308 126,-148.795 126,-139.606\" fill=\"none\" stroke=\"#000000\"/>\n<polygon fill=\"#000000\" points=\"129.5001,-139.5333 126,-129.5333 122.5001,-139.5334 129.5001,-139.5333\" stroke=\"#000000\"/>\n</g>\n</g>\n</svg>"
          },
          "metadata": {
            "tags": []
          },
          "execution_count": 35
        }
      ]
    },
    {
      "cell_type": "markdown",
      "metadata": {
        "id": "roMD7x1NzeP3",
        "colab_type": "text"
      },
      "source": [
        "### 모델 평가하기"
      ]
    },
    {
      "cell_type": "code",
      "metadata": {
        "id": "qHemhV1Ey3Px",
        "colab_type": "code",
        "outputId": "f1971254-ce4e-438c-8b27-d764d15c2cdc",
        "colab": {
          "base_uri": "https://localhost:8080/",
          "height": 70
        }
      },
      "source": [
        "loss_and_metrics=model.evaluate(x_test,y_test, batch_size=32)\n",
        "\n",
        "print('')\n",
        "print('loss_and_metrics : ' + str(loss_and_metrics))"
      ],
      "execution_count": 36,
      "outputs": [
        {
          "output_type": "stream",
          "text": [
            "10000/10000 [==============================] - 0s 42us/step\n",
            "\n",
            "loss_and_metrics : [0.41521228601932525, 0.8749]\n"
          ],
          "name": "stdout"
        }
      ]
    },
    {
      "cell_type": "markdown",
      "metadata": {
        "id": "AsXyHqrEzjLf",
        "colab_type": "text"
      },
      "source": [
        "### 모델 저장하기, 모델 불러오기\n",
        "#### 모델 저장하기"
      ]
    },
    {
      "cell_type": "code",
      "metadata": {
        "id": "SEe-QI2hzWh3",
        "colab_type": "code",
        "colab": {}
      },
      "source": [
        "from keras.models import load_model\n",
        "model.save('mnist_mlp_model.h5')"
      ],
      "execution_count": 0,
      "outputs": []
    },
    {
      "cell_type": "markdown",
      "metadata": {
        "id": "cS4FYlvh0QTR",
        "colab_type": "text"
      },
      "source": [
        "#### 모델 불러오기 및 사용하기"
      ]
    },
    {
      "cell_type": "code",
      "metadata": {
        "id": "CJcac1vl0V_l",
        "colab_type": "code",
        "outputId": "0765da75-dff5-4b89-ad91-bb0d01b02983",
        "colab": {
          "base_uri": "https://localhost:8080/",
          "height": 193
        }
      },
      "source": [
        "from keras.utils import np_utils\n",
        "from keras.datasets import mnist\n",
        "from keras.models import Sequential\n",
        "from keras.layers import Dense, Activation\n",
        "import numpy as np\n",
        "from numpy import argmax\n",
        "\n",
        "testCount = 10\n",
        "(x_train, y_train) , (x_test, y_test) = mnist.load_data()\n",
        "x_test = x_test.reshape(10000, 784).astype('float32') / 255.0\n",
        "y_test = np_utils.to_categorical(y_test)\n",
        "xhat_idx = np.random.choice(x_test.shape[0],testCount)\n",
        "xhat = x_test[xhat_idx]\n",
        "\n",
        "from keras.models import load_model\n",
        "model = load_model('mnist_mlp_model.h5')\n",
        "\n",
        "yhat = model.predict_classes(xhat)\n",
        "\n",
        "for i in range(testCount) :\n",
        "  print('Anwser : ' + str(argmax(y_test[xhat_idx[i]])) + ', Predict : ' + str(yhat[i]))"
      ],
      "execution_count": 38,
      "outputs": [
        {
          "output_type": "stream",
          "text": [
            "Anwser : 1, Predict : 1\n",
            "Anwser : 4, Predict : 4\n",
            "Anwser : 5, Predict : 5\n",
            "Anwser : 4, Predict : 8\n",
            "Anwser : 1, Predict : 1\n",
            "Anwser : 7, Predict : 7\n",
            "Anwser : 6, Predict : 6\n",
            "Anwser : 3, Predict : 5\n",
            "Anwser : 4, Predict : 4\n",
            "Anwser : 4, Predict : 4\n"
          ],
          "name": "stdout"
        }
      ]
    }
  ]
}