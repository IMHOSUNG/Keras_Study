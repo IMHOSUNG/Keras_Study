{
  "nbformat": 4,
  "nbformat_minor": 0,
  "metadata": {
    "colab": {
      "name": "KerasExample2.ipynb",
      "version": "0.3.2",
      "provenance": [],
      "collapsed_sections": [],
      "toc_visible": true,
      "include_colab_link": true
    },
    "kernelspec": {
      "name": "python3",
      "display_name": "Python 3"
    },
    "accelerator": "GPU"
  },
  "cells": [
    {
      "cell_type": "markdown",
      "metadata": {
        "id": "view-in-github",
        "colab_type": "text"
      },
      "source": [
        "<a href=\"https://colab.research.google.com/github/IMHOSUNG/Keras_Study/blob/master/KerasExample2.ipynb\" target=\"_parent\"><img src=\"https://colab.research.google.com/assets/colab-badge.svg\" alt=\"Open In Colab\"/></a>"
      ]
    },
    {
      "cell_type": "markdown",
      "metadata": {
        "id": "BVMkt2YHuSok",
        "colab_type": "text"
      },
      "source": [
        "# 다층 퍼셉트론 신경망 모델\n",
        "\n"
      ]
    },
    {
      "cell_type": "markdown",
      "metadata": {
        "id": "aE5yhdyNzU1o",
        "colab_type": "text"
      },
      "source": [
        "### 데이터 준비\n",
        "\n",
        "[Link ] : https://www.kaggle.com/uciml/pima-indians-diabetes-database"
      ]
    },
    {
      "cell_type": "code",
      "metadata": {
        "id": "00S1vH30wkG1",
        "colab_type": "code",
        "colab": {}
      },
      "source": [
        "# Google 드라이브를 마운트하려면 이 셀을 실행하세요.\n",
        "# 마운트를 한 후 keggle에서 파일을 받아 구글 드라이브에 업로드 할 것 \n",
        "from google.colab import drive\n",
        "drive.mount('/content/drive')"
      ],
      "execution_count": 0,
      "outputs": []
    },
    {
      "cell_type": "markdown",
      "metadata": {
        "id": "M8biizy8zTw8",
        "colab_type": "text"
      },
      "source": [
        "### test 라는 디렉토리를 새로 만들어서 그 안에 데이터를 넣음 <ls명령어를 통한 확인>"
      ]
    },
    {
      "cell_type": "code",
      "metadata": {
        "id": "unmMKJQzxOIE",
        "colab_type": "code",
        "colab": {
          "base_uri": "https://localhost:8080/",
          "height": 34
        },
        "outputId": "90c3450b-3888-4b57-9d07-f79cba7e8809"
      },
      "source": [
        "!ls ./drive/'My Drive'/test/"
      ],
      "execution_count": 23,
      "outputs": [
        {
          "output_type": "stream",
          "text": [
            "diabetes.csv\n"
          ],
          "name": "stdout"
        }
      ]
    },
    {
      "cell_type": "markdown",
      "metadata": {
        "id": "mn63uLo30qof",
        "colab_type": "text"
      },
      "source": [
        "랜덤 시드 고정 이유\n",
        "- 매번 실행 시마다 결과가 달라지지 않도록 랜덤 시드를 명시적으로 정한다. 이것을 지정하지 않으면 매번 실행 시마다 동일 모델임에도 불구하고 다른 결과가 나온다. "
      ]
    },
    {
      "cell_type": "code",
      "metadata": {
        "id": "AK56ASdVtD9X",
        "colab_type": "code",
        "colab": {
          "base_uri": "https://localhost:8080/",
          "height": 140
        },
        "outputId": "188b9f5e-cc2e-4732-a7c4-d9f9c012436b"
      },
      "source": [
        "import numpy as np\n",
        "from keras.models import Sequential\n",
        "from keras.layers import Dense\n",
        "\n",
        "#랜덤 시드 생성\n",
        "np.random.seed(5)\n",
        "\n",
        "#첫번 째 줄 지우기 <카테고리 줄 지우기>\n",
        "with open(\"./drive/My Drive/test/diabetes.csv\",'r') as f:\n",
        "    with open(\"updated_diabetes.csv\",'w') as f1:\n",
        "        next(f) # skip header line\n",
        "        for line in f:\n",
        "            f1.write(line)\n",
        "\n",
        "#새로 생성된 diabets을 dataset으로 읽는다.\n",
        "dataset = np.loadtxt(\"updated_diabets.csv\", delimiter =\",\")\n",
        "\n",
        "#dataset 확인\n",
        "print(dataset)\n"
      ],
      "execution_count": 21,
      "outputs": [
        {
          "output_type": "stream",
          "text": [
            "[[  6.    148.     72.    ...   0.627  50.      1.   ]\n",
            " [  1.     85.     66.    ...   0.351  31.      0.   ]\n",
            " [  8.    183.     64.    ...   0.672  32.      1.   ]\n",
            " ...\n",
            " [  5.    121.     72.    ...   0.245  30.      0.   ]\n",
            " [  1.    126.     60.    ...   0.349  47.      1.   ]\n",
            " [  1.     93.     70.    ...   0.315  23.      0.   ]]\n"
          ],
          "name": "stdout"
        }
      ]
    },
    {
      "cell_type": "markdown",
      "metadata": {
        "id": "I7lxzVzwz4kv",
        "colab_type": "text"
      },
      "source": [
        "### 데이터셋 생성하기\n",
        "\n",
        "- 데이터셋 구조\n",
        "  + 속성값 8개를 통한 입력\n",
        "  + 판정 결과 1개 변수로 출력 "
      ]
    },
    {
      "cell_type": "code",
      "metadata": {
        "id": "8m4DxhObz3Kk",
        "colab_type": "code",
        "colab": {}
      },
      "source": [
        "#700개 까지 0~7의 속성을 읽어 8 마지막 1과 0의 결과 값을 확인\n",
        "x_train = dataset[:700,0:8]\n",
        "y_train = dataset[:700,8]\n",
        "\n",
        "x_test = dataset[700:,0:8]\n",
        "y_test = dataset[700:,8]\n",
        "\n"
      ],
      "execution_count": 0,
      "outputs": []
    },
    {
      "cell_type": "markdown",
      "metadata": {
        "id": "eBg1vwU20h_o",
        "colab_type": "text"
      },
      "source": [
        "### 모델 구성하기"
      ]
    },
    {
      "cell_type": "code",
      "metadata": {
        "id": "_xNUZZGi0uxo",
        "colab_type": "code",
        "colab": {}
      },
      "source": [
        "model = Sequential()\n",
        "model.add(Dense(12, input_dim = 8, activation='relu'))\n",
        "model.add(Dense(8, activation='relu'))\n",
        "model.add(Dense(1, activation='sigmoid'))"
      ],
      "execution_count": 0,
      "outputs": []
    },
    {
      "cell_type": "code",
      "metadata": {
        "id": "5OKwMB7m0_Lf",
        "colab_type": "code",
        "colab": {
          "base_uri": "https://localhost:8080/",
          "height": 411
        },
        "outputId": "3739faa6-8d85-4fee-93a6-2f0a28d65e50"
      },
      "source": [
        "from IPython.display import SVG\n",
        "from keras.utils.vis_utils import model_to_dot\n",
        "\n",
        "%matplotlib inline\n",
        "\n",
        "SVG(model_to_dot(model, show_shapes=True).create(prog='dot', format='svg'))"
      ],
      "execution_count": 27,
      "outputs": [
        {
          "output_type": "execute_result",
          "data": {
            "text/plain": [
              "<IPython.core.display.SVG object>"
            ],
            "image/svg+xml": "<svg height=\"294pt\" viewBox=\"0.00 0.00 253.00 294.00\" width=\"253pt\" xmlns=\"http://www.w3.org/2000/svg\" xmlns:xlink=\"http://www.w3.org/1999/xlink\">\n<g class=\"graph\" id=\"graph0\" transform=\"scale(1 1) rotate(0) translate(4 290)\">\n<title>G</title>\n<polygon fill=\"#ffffff\" points=\"-4,4 -4,-290 249,-290 249,4 -4,4\" stroke=\"transparent\"/>\n<!-- 140188078651712 -->\n<g class=\"node\" id=\"node1\">\n<title>140188078651712</title>\n<polygon fill=\"none\" points=\"0,-166.5 0,-212.5 245,-212.5 245,-166.5 0,-166.5\" stroke=\"#000000\"/>\n<text fill=\"#000000\" font-family=\"Times,serif\" font-size=\"14.00\" text-anchor=\"middle\" x=\"53.5\" y=\"-185.8\">dense_7: Dense</text>\n<polyline fill=\"none\" points=\"107,-166.5 107,-212.5 \" stroke=\"#000000\"/>\n<text fill=\"#000000\" font-family=\"Times,serif\" font-size=\"14.00\" text-anchor=\"middle\" x=\"136\" y=\"-197.3\">input:</text>\n<polyline fill=\"none\" points=\"107,-189.5 165,-189.5 \" stroke=\"#000000\"/>\n<text fill=\"#000000\" font-family=\"Times,serif\" font-size=\"14.00\" text-anchor=\"middle\" x=\"136\" y=\"-174.3\">output:</text>\n<polyline fill=\"none\" points=\"165,-166.5 165,-212.5 \" stroke=\"#000000\"/>\n<text fill=\"#000000\" font-family=\"Times,serif\" font-size=\"14.00\" text-anchor=\"middle\" x=\"205\" y=\"-197.3\">(None, 8)</text>\n<polyline fill=\"none\" points=\"165,-189.5 245,-189.5 \" stroke=\"#000000\"/>\n<text fill=\"#000000\" font-family=\"Times,serif\" font-size=\"14.00\" text-anchor=\"middle\" x=\"205\" y=\"-174.3\">(None, 12)</text>\n</g>\n<!-- 140188078652328 -->\n<g class=\"node\" id=\"node2\">\n<title>140188078652328</title>\n<polygon fill=\"none\" points=\"0,-83.5 0,-129.5 245,-129.5 245,-83.5 0,-83.5\" stroke=\"#000000\"/>\n<text fill=\"#000000\" font-family=\"Times,serif\" font-size=\"14.00\" text-anchor=\"middle\" x=\"53.5\" y=\"-102.8\">dense_8: Dense</text>\n<polyline fill=\"none\" points=\"107,-83.5 107,-129.5 \" stroke=\"#000000\"/>\n<text fill=\"#000000\" font-family=\"Times,serif\" font-size=\"14.00\" text-anchor=\"middle\" x=\"136\" y=\"-114.3\">input:</text>\n<polyline fill=\"none\" points=\"107,-106.5 165,-106.5 \" stroke=\"#000000\"/>\n<text fill=\"#000000\" font-family=\"Times,serif\" font-size=\"14.00\" text-anchor=\"middle\" x=\"136\" y=\"-91.3\">output:</text>\n<polyline fill=\"none\" points=\"165,-83.5 165,-129.5 \" stroke=\"#000000\"/>\n<text fill=\"#000000\" font-family=\"Times,serif\" font-size=\"14.00\" text-anchor=\"middle\" x=\"205\" y=\"-114.3\">(None, 12)</text>\n<polyline fill=\"none\" points=\"165,-106.5 245,-106.5 \" stroke=\"#000000\"/>\n<text fill=\"#000000\" font-family=\"Times,serif\" font-size=\"14.00\" text-anchor=\"middle\" x=\"205\" y=\"-91.3\">(None, 8)</text>\n</g>\n<!-- 140188078651712&#45;&gt;140188078652328 -->\n<g class=\"edge\" id=\"edge2\">\n<title>140188078651712-&gt;140188078652328</title>\n<path d=\"M122.5,-166.3799C122.5,-158.1745 122.5,-148.7679 122.5,-139.8786\" fill=\"none\" stroke=\"#000000\"/>\n<polygon fill=\"#000000\" points=\"126.0001,-139.784 122.5,-129.784 119.0001,-139.784 126.0001,-139.784\" stroke=\"#000000\"/>\n</g>\n<!-- 140188079765264 -->\n<g class=\"node\" id=\"node3\">\n<title>140188079765264</title>\n<polygon fill=\"none\" points=\"4,-.5 4,-46.5 241,-46.5 241,-.5 4,-.5\" stroke=\"#000000\"/>\n<text fill=\"#000000\" font-family=\"Times,serif\" font-size=\"14.00\" text-anchor=\"middle\" x=\"57.5\" y=\"-19.8\">dense_9: Dense</text>\n<polyline fill=\"none\" points=\"111,-.5 111,-46.5 \" stroke=\"#000000\"/>\n<text fill=\"#000000\" font-family=\"Times,serif\" font-size=\"14.00\" text-anchor=\"middle\" x=\"140\" y=\"-31.3\">input:</text>\n<polyline fill=\"none\" points=\"111,-23.5 169,-23.5 \" stroke=\"#000000\"/>\n<text fill=\"#000000\" font-family=\"Times,serif\" font-size=\"14.00\" text-anchor=\"middle\" x=\"140\" y=\"-8.3\">output:</text>\n<polyline fill=\"none\" points=\"169,-.5 169,-46.5 \" stroke=\"#000000\"/>\n<text fill=\"#000000\" font-family=\"Times,serif\" font-size=\"14.00\" text-anchor=\"middle\" x=\"205\" y=\"-31.3\">(None, 8)</text>\n<polyline fill=\"none\" points=\"169,-23.5 241,-23.5 \" stroke=\"#000000\"/>\n<text fill=\"#000000\" font-family=\"Times,serif\" font-size=\"14.00\" text-anchor=\"middle\" x=\"205\" y=\"-8.3\">(None, 1)</text>\n</g>\n<!-- 140188078652328&#45;&gt;140188079765264 -->\n<g class=\"edge\" id=\"edge3\">\n<title>140188078652328-&gt;140188079765264</title>\n<path d=\"M122.5,-83.3799C122.5,-75.1745 122.5,-65.7679 122.5,-56.8786\" fill=\"none\" stroke=\"#000000\"/>\n<polygon fill=\"#000000\" points=\"126.0001,-56.784 122.5,-46.784 119.0001,-56.784 126.0001,-56.784\" stroke=\"#000000\"/>\n</g>\n<!-- 140188071403360 -->\n<g class=\"node\" id=\"node4\">\n<title>140188071403360</title>\n<polygon fill=\"none\" points=\"58,-249.5 58,-285.5 187,-285.5 187,-249.5 58,-249.5\" stroke=\"#000000\"/>\n<text fill=\"#000000\" font-family=\"Times,serif\" font-size=\"14.00\" text-anchor=\"middle\" x=\"122.5\" y=\"-263.8\">140188071403360</text>\n</g>\n<!-- 140188071403360&#45;&gt;140188078651712 -->\n<g class=\"edge\" id=\"edge1\">\n<title>140188071403360-&gt;140188078651712</title>\n<path d=\"M122.5,-249.4092C122.5,-241.4308 122.5,-231.795 122.5,-222.606\" fill=\"none\" stroke=\"#000000\"/>\n<polygon fill=\"#000000\" points=\"126.0001,-222.5333 122.5,-212.5333 119.0001,-222.5334 126.0001,-222.5333\" stroke=\"#000000\"/>\n</g>\n</g>\n</svg>"
          },
          "metadata": {
            "tags": []
          },
          "execution_count": 27
        }
      ]
    },
    {
      "cell_type": "markdown",
      "metadata": {
        "id": "g82jk5Af1JsX",
        "colab_type": "text"
      },
      "source": [
        "### 모델 학습 과정 설정 및 학습"
      ]
    },
    {
      "cell_type": "code",
      "metadata": {
        "id": "HIPfTV_D1JW_",
        "colab_type": "code",
        "colab": {}
      },
      "source": [
        "model.compile(loss='binary_crossentropy',optimizer='adam',metrics=['accuracy'])\n",
        "model.fit(x_train,y_train,epochs=1500, batch_size = 64)\n",
        "\n"
      ],
      "execution_count": 0,
      "outputs": []
    },
    {
      "cell_type": "markdown",
      "metadata": {
        "id": "QJBwfkWf1hkv",
        "colab_type": "text"
      },
      "source": [
        "### 모델 평가하기 "
      ]
    },
    {
      "cell_type": "code",
      "metadata": {
        "id": "cQ3JCSUm1jHv",
        "colab_type": "code",
        "colab": {
          "base_uri": "https://localhost:8080/",
          "height": 52
        },
        "outputId": "dc8dd250-8808-44e2-8fec-1f6c2ad2ca7d"
      },
      "source": [
        "scores = model.evaluate(x_test, y_test)\n",
        "print(\"%s : %.2f%%\" %(model.metrics_names[1], scores[1]*100))"
      ],
      "execution_count": 29,
      "outputs": [
        {
          "output_type": "stream",
          "text": [
            "68/68 [==============================] - 0s 690us/step\n",
            "acc : 76.47%\n"
          ],
          "name": "stdout"
        }
      ]
    }
  ]
}